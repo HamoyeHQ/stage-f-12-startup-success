{
 "cells": [
  {
   "cell_type": "markdown",
   "metadata": {},
   "source": [
    "# Startup Investments\n",
    "Venture deals, organizations, people and exits.\n",
    "\n",
    "\n",
    "# Exploratory Data Analysis\n",
    "\n",
    "__Description__\n",
    "\n",
    "The startup world is flourishing. There are hundreds of new companies being founded each day and venture capital has become a substantial asset class with yearly investments exceeding $100B in the US alone. Crunchbase 2013 Snapshot © 2013 dataset provides a glimpse into this exciting world.\n",
    "\n",
    "\n",
    "__Content__\n",
    "\n",
    "This diverse dataset contains information about the startup ecosystem: organizations, individuals, company news, funding rounds, acquisitions, and IPOs.\n",
    "There are 11 tables that can be joined using unique IDs (schema to follow). More information about the individual data variables can be found on the Crunchabse Data website (under the API Entities Types section)."
   ]
  },
  {
   "cell_type": "code",
   "execution_count": null,
   "metadata": {},
   "outputs": [],
   "source": []
  }
 ],
 "metadata": {
  "kernelspec": {
   "display_name": "Python 3",
   "language": "python",
   "name": "python3"
  },
  "language_info": {
   "codemirror_mode": {
    "name": "ipython",
    "version": 3
   },
   "file_extension": ".py",
   "mimetype": "text/x-python",
   "name": "python",
   "nbconvert_exporter": "python",
   "pygments_lexer": "ipython3",
   "version": "3.7.6"
  }
 },
 "nbformat": 4,
 "nbformat_minor": 4
}
