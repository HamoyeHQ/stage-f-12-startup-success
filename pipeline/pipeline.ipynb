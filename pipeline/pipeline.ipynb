{
 "cells": [
  {
   "cell_type": "code",
   "execution_count": 1,
   "metadata": {},
   "outputs": [],
   "source": [
    "!python3 -m pip install pip --upgrade --quiet --user\n",
    "!python3 -m pip install kfp --upgrade --quiet --user\n",
    "!python3 -m pip install tfx==0.22.0 --quiet --user"
   ]
  },
  {
   "cell_type": "code",
   "execution_count": 2,
   "metadata": {},
   "outputs": [
    {
     "name": "stdout",
     "output_type": "stream",
     "text": [
      "env: PATH=/usr/local/cuda/bin:/opt/conda/bin:/opt/conda/condabin:/usr/local/bin:/usr/bin:/bin:/usr/local/games:/usr/games:/home/jupyter/.local/bin\n"
     ]
    }
   ],
   "source": [
    "# Set `PATH` to include user python binary directory and a directory containing `skaffold`.\n",
    "PATH=%env PATH\n",
    "%env PATH={PATH}:/home/jupyter/.local/bin"
   ]
  },
  {
   "cell_type": "code",
   "execution_count": 3,
   "metadata": {},
   "outputs": [
    {
     "name": "stderr",
     "output_type": "stream",
     "text": [
      "/home/jupyter/.local/lib/python3.7/site-packages/tfx/orchestration/data_types.py:191: UserWarning: RuntimeParameter is only supported on KubeflowDagRunner currently.\n",
      "  warnings.warn('RuntimeParameter is only supported on KubeflowDagRunner '\n"
     ]
    }
   ],
   "source": [
    "import os\n",
    "from typing import Text\n",
    "\n",
    "import kfp\n",
    "\n",
    "import tensorflow_model_analysis as tfma\n",
    "\n",
    "from tfx.components import Evaluator\n",
    "from tfx.components import CsvExampleGen\n",
    "from tfx.components import ExampleValidator\n",
    "from tfx.components import Pusher\n",
    "from tfx.components import SchemaGen\n",
    "from tfx.components import StatisticsGen\n",
    "from tfx.components import Trainer\n",
    "from tfx.components import Transform\n",
    "from tfx.orchestration import data_types\n",
    "from tfx.orchestration import pipeline\n",
    "from tfx.orchestration.kubeflow import kubeflow_dag_runner\n",
    "from tfx.proto import pusher_pb2\n",
    "from tfx.utils.dsl_utils import external_input"
   ]
  },
  {
   "cell_type": "code",
   "execution_count": 4,
   "metadata": {},
   "outputs": [],
   "source": [
    "pipeline_name = 'startup_success_pipeline'\n",
    "pipeline_root = os.path.join('gs://hamoye-startup-success-kubeflowpipelines-default', 'std_mrg', kfp.dsl.RUN_ID_PLACEHOLDER)\n",
    "# Location of input data, should be a GCS path under which there is a csv file.\n",
    "data_root_param = data_types.RuntimeParameter(\n",
    "    name='data-root',\n",
    "    default=\"gs://hamoye-startup-success-kubeflowpipelines-default/'std_mrg.csv\",\n",
    "    ptype=Text,\n",
    ")"
   ]
  },
  {
   "cell_type": "code",
   "execution_count": 5,
   "metadata": {},
   "outputs": [],
   "source": [
    "startup_module_file_param = data_types.RuntimeParameter(\n",
    "    name='module-file',\n",
    "    default='gs://hamoye-startup-success-kubeflowpipelines-default/pipeline_util.py',\n",
    "    ptype=Text,\n",
    ")\n",
    "\n",
    "# Number of epochs in training.\n",
    "train_steps = data_types.RuntimeParameter(\n",
    "    name='train-steps',\n",
    "    default=10,\n",
    "    ptype=int,\n",
    ")\n",
    "\n",
    "# Number of epochs in evaluation.\n",
    "eval_steps = data_types.RuntimeParameter(\n",
    "    name='eval-steps',\n",
    "    default=5,\n",
    "    ptype=int,\n",
    ")"
   ]
  },
  {
   "cell_type": "code",
   "execution_count": 6,
   "metadata": {},
   "outputs": [],
   "source": [
    "# The input data location is parameterized by _data_root_param\n",
    "examples = external_input(data_root_param)\n",
    "example_gen = CsvExampleGen(input=examples)\n",
    "\n",
    "statistics_gen = StatisticsGen(examples=example_gen.outputs['examples'])\n",
    "\n",
    "infer_schema = SchemaGen(\n",
    "    statistics=statistics_gen.outputs['statistics'], infer_feature_shape=False)\n",
    "\n",
    "validate_stats = ExampleValidator(\n",
    "  statistics=statistics_gen.outputs['statistics'],\n",
    "  schema=infer_schema.outputs['schema'])\n",
    "\n",
    "# The module file used in Transform and Trainer component is paramterized by\n",
    "# _taxi_module_file_param.\n",
    "transform = Transform(\n",
    "  examples=example_gen.outputs['examples'],\n",
    "  schema=infer_schema.outputs['schema'],\n",
    "  module_file=startup_module_file_param)\n",
    "\n",
    "# The numbers of steps in train_args are specified as RuntimeParameter with\n",
    "# name 'train-steps' and 'eval-steps', respectively.\n",
    "trainer = Trainer(\n",
    "  module_file=startup_module_file_param,\n",
    "  transformed_examples=transform.outputs['transformed_examples'],\n",
    "  schema=infer_schema.outputs['schema'],\n",
    "  transform_graph=transform.outputs['transform_graph'],\n",
    "  train_args={'num_steps': train_steps},\n",
    "  eval_args={'num_steps': eval_steps})\n",
    "\n",
    "# Set the TFMA config for Model Evaluation and Validation.\n",
    "eval_config = tfma.EvalConfig(\n",
    "    model_specs=[\n",
    "      # Using signature 'eval' implies the use of an EvalSavedModel. To use\n",
    "      # a serving model remove the signature to defaults to 'serving_default'\n",
    "      # and add a label_key.\n",
    "      tfma.ModelSpec(signature_name='eval')\n",
    "    ],\n",
    "    metrics_specs=[\n",
    "      tfma.MetricsSpec(\n",
    "          # The metrics added here are in addition to those saved with the\n",
    "          # model (assuming either a keras model or EvalSavedModel is used).\n",
    "          # Any metrics added into the saved model (for example using\n",
    "          # model.compile(..., metrics=[...]), etc) will be computed\n",
    "          # automatically.\n",
    "          metrics=[\n",
    "              tfma.MetricConfig(class_name='ExampleCount')\n",
    "          ],\n",
    "          # To add validation thresholds for metrics saved with the model,\n",
    "          # add them keyed by metric name to the thresholds map.\n",
    "          thresholds = {\n",
    "              'binary_accuracy': tfma.MetricThreshold(\n",
    "                  value_threshold=tfma.GenericValueThreshold(\n",
    "                      lower_bound={'value': 0.5}),\n",
    "                  change_threshold=tfma.GenericChangeThreshold(\n",
    "                     direction=tfma.MetricDirection.HIGHER_IS_BETTER,\n",
    "                     absolute={'value': -1e-10}))\n",
    "          }\n",
    "      )\n",
    "    ],\n",
    "    slicing_specs=[\n",
    "      # An empty slice spec means the overall slice, i.e. the whole dataset.\n",
    "      tfma.SlicingSpec(),\n",
    "      # Data can be sliced along a feature column. In this case, data is\n",
    "      # sliced along feature column trip_start_hour.\n",
    "      tfma.SlicingSpec(feature_keys=['trip_start_hour'])\n",
    "    ])\n",
    "\n",
    "# The name of slicing column is specified as a RuntimeParameter.\n",
    "evaluator = Evaluator(\n",
    "  examples=example_gen.outputs['examples'],\n",
    "  model=trainer.outputs['model'],\n",
    "  eval_config=eval_config)\n",
    "\n",
    "pusher = Pusher(\n",
    "  model=trainer.outputs['model'],\n",
    "  model_blessing=evaluator.outputs['blessing'],\n",
    "  push_destination=pusher_pb2.PushDestination(\n",
    "      filesystem=pusher_pb2.PushDestination.Filesystem(\n",
    "          base_directory=os.path.join(\n",
    "              str(pipeline.ROOT_PARAMETER), 'model_serving'))))"
   ]
  },
  {
   "cell_type": "code",
   "execution_count": 7,
   "metadata": {},
   "outputs": [],
   "source": [
    "# Create the DSL pipeline object.\n",
    "# This pipeline obj carries the business logic of the pipeline, but no runner-specific information\n",
    "# was included.\n",
    "dsl_pipeline = pipeline.Pipeline(\n",
    "  pipeline_name=pipeline_name,\n",
    "  pipeline_root=pipeline_root,\n",
    "  components=[\n",
    "      example_gen, statistics_gen, infer_schema, validate_stats, transform,\n",
    "      trainer,evaluator, pusher\n",
    "  ],\n",
    "  enable_cache=True,\n",
    "  beam_pipeline_args=['--direct_num_workers=%d' % 0],\n",
    ")"
   ]
  },
  {
   "cell_type": "code",
   "execution_count": 8,
   "metadata": {},
   "outputs": [],
   "source": [
    "# Specify a TFX docker image. For the full list of tags please see:\n",
    "tfx_image = 'gcr.io/tfx-oss-public/tfx:0.22.0'\n",
    "config = kubeflow_dag_runner.KubeflowDagRunnerConfig(\n",
    "      kubeflow_metadata_config=kubeflow_dag_runner\n",
    "      .get_default_kubeflow_metadata_config(),\n",
    "      tfx_image=tfx_image)\n",
    "kfp_runner = kubeflow_dag_runner.KubeflowDagRunner(config=config)\n",
    "# KubeflowDagRunner compiles the DSL pipeline object into KFP pipeline package.\n",
    "# By default it is named <pipeline_name>.tar.gz\n",
    "kfp_runner.run(dsl_pipeline)"
   ]
  },
  {
   "cell_type": "code",
   "execution_count": 9,
   "metadata": {},
   "outputs": [
    {
     "data": {
      "text/html": [
       "<a href=\"http://76a815540f141312-dot-us-central2.pipelines.googleusercontent.com//#/experiments/details/c11888f7-de7d-48e2-9ea5-0da3d8ff4c62\" target=\"_blank\" >Experiment details</a>."
      ],
      "text/plain": [
       "<IPython.core.display.HTML object>"
      ]
     },
     "metadata": {},
     "output_type": "display_data"
    },
    {
     "data": {
      "text/html": [
       "<a href=\"http://76a815540f141312-dot-us-central2.pipelines.googleusercontent.com//#/runs/details/5832addf-ab74-4394-9633-8ecb6eb0d986\" target=\"_blank\" >Run details</a>."
      ],
      "text/plain": [
       "<IPython.core.display.HTML object>"
      ]
     },
     "metadata": {},
     "output_type": "display_data"
    }
   ],
   "source": [
    "run_result = kfp.Client(\n",
    "    host='76a815540f141312-dot-us-central2.pipelines.googleusercontent.com/'  # Put your KFP endpoint here\n",
    ").create_run_from_pipeline_package(\n",
    "    pipeline_name + '.tar.gz', \n",
    "    arguments={\n",
    "        # Uncomment following lines in order to use custom GCS bucket/module file/training data.\n",
    "        # 'pipeline-root': 'gs://<your-gcs-bucket>/tfx_taxi_simple/' + kfp.dsl.RUN_ID_PLACEHOLDER,\n",
    "        # 'module-file': '<gcs path to the module file>',  # delete this line to use default module file.\n",
    "        # 'data-root': '<gcs path to the data>'  # delete this line to use default data.\n",
    "})"
   ]
  },
  {
   "cell_type": "code",
   "execution_count": null,
   "metadata": {},
   "outputs": [],
   "source": []
  }
 ],
 "metadata": {
  "environment": {
   "name": "tf2-2-3-gpu.2-3.m59",
   "type": "gcloud",
   "uri": "gcr.io/deeplearning-platform-release/tf2-2-3-gpu.2-3:m59"
  },
  "kernelspec": {
   "display_name": "Python 3",
   "language": "python",
   "name": "python3"
  },
  "language_info": {
   "codemirror_mode": {
    "name": "ipython",
    "version": 3
   },
   "file_extension": ".py",
   "mimetype": "text/x-python",
   "name": "python",
   "nbconvert_exporter": "python",
   "pygments_lexer": "ipython3",
   "version": "3.7.8"
  }
 },
 "nbformat": 4,
 "nbformat_minor": 4
}
