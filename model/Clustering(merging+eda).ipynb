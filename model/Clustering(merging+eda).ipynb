{
 "cells": [
  {
   "cell_type": "code",
   "execution_count": 1,
   "metadata": {},
   "outputs": [],
   "source": [
    "import pandas as pd\n",
    "import numpy as np"
   ]
  },
  {
   "cell_type": "code",
   "execution_count": 2,
   "metadata": {},
   "outputs": [],
   "source": [
    "import matplotlib.pyplot as plt\n",
    "import seaborn as sns"
   ]
  },
  {
   "cell_type": "code",
   "execution_count": 3,
   "metadata": {},
   "outputs": [],
   "source": [
    "%matplotlib inline"
   ]
  },
  {
   "cell_type": "code",
   "execution_count": 4,
   "metadata": {},
   "outputs": [],
   "source": [
    "# reading useful datasets into dataframes\n",
    "investments=pd.read_csv(r'C:\\Users\\m_joekid\\Desktop\\Startup Success\\investments.csv')\n",
    "funds=pd.read_csv(r'C:\\Users\\m_joekid\\Desktop\\Startup Success\\funds.csv')\n",
    "funding_round=pd.read_csv(r'C:\\Users\\m_joekid\\Desktop\\Startup Success\\funding_rounds.csv')"
   ]
  },
  {
   "source": [
    "## Basic EDA"
   ],
   "cell_type": "markdown",
   "metadata": {}
  },
  {
   "cell_type": "code",
   "execution_count": 5,
   "metadata": {},
   "outputs": [],
   "source": [
    "pd.set_option('display.max_columns',None) # collapses all hidden columns"
   ]
  },
  {
   "cell_type": "code",
   "execution_count": 6,
   "metadata": {},
   "outputs": [
    {
     "output_type": "execute_result",
     "data": {
      "text/plain": [
       "          id  funding_round_id funded_object_id investor_object_id  \\\n",
       "59287  59288             53289          c:24287              f:277   \n",
       "14614  14615              9741          c:36432             f:2257   \n",
       "61353  61354             57751         c:164452             f:5584   \n",
       "\n",
       "                created_at           updated_at  \n",
       "59287  2013-10-31 05:21:14  2013-11-04 02:57:08  \n",
       "14614  2009-11-25 12:32:04  2009-11-25 12:32:04  \n",
       "61353  2013-12-11 13:53:50  2013-12-11 13:53:50  "
      ],
      "text/html": "<div>\n<style scoped>\n    .dataframe tbody tr th:only-of-type {\n        vertical-align: middle;\n    }\n\n    .dataframe tbody tr th {\n        vertical-align: top;\n    }\n\n    .dataframe thead th {\n        text-align: right;\n    }\n</style>\n<table border=\"1\" class=\"dataframe\">\n  <thead>\n    <tr style=\"text-align: right;\">\n      <th></th>\n      <th>id</th>\n      <th>funding_round_id</th>\n      <th>funded_object_id</th>\n      <th>investor_object_id</th>\n      <th>created_at</th>\n      <th>updated_at</th>\n    </tr>\n  </thead>\n  <tbody>\n    <tr>\n      <td>59287</td>\n      <td>59288</td>\n      <td>53289</td>\n      <td>c:24287</td>\n      <td>f:277</td>\n      <td>2013-10-31 05:21:14</td>\n      <td>2013-11-04 02:57:08</td>\n    </tr>\n    <tr>\n      <td>14614</td>\n      <td>14615</td>\n      <td>9741</td>\n      <td>c:36432</td>\n      <td>f:2257</td>\n      <td>2009-11-25 12:32:04</td>\n      <td>2009-11-25 12:32:04</td>\n    </tr>\n    <tr>\n      <td>61353</td>\n      <td>61354</td>\n      <td>57751</td>\n      <td>c:164452</td>\n      <td>f:5584</td>\n      <td>2013-12-11 13:53:50</td>\n      <td>2013-12-11 13:53:50</td>\n    </tr>\n  </tbody>\n</table>\n</div>"
     },
     "metadata": {},
     "execution_count": 6
    }
   ],
   "source": [
    "investments.sample(3)"
   ]
  },
  {
   "cell_type": "code",
   "execution_count": 7,
   "metadata": {},
   "outputs": [
    {
     "output_type": "execute_result",
     "data": {
      "text/plain": [
       "        id  fund_id object_id                         name   funded_at  \\\n",
       "24      27       27     f:137                 Battery Fund  2007-07-06   \n",
       "529    582      582    f:2130           Poste Innovation 7  2004-01-01   \n",
       "1469  1603     1603   f:14564  Targeted Technology Fund II  2013-11-08   \n",
       "\n",
       "      raised_amount raised_currency_code  \\\n",
       "24      750000000.0                  USD   \n",
       "529      15000000.0                  EUR   \n",
       "1469     20000000.0                  USD   \n",
       "\n",
       "                                             source_url  \\\n",
       "24    http://venturebeat.com/2007/07/06/svb-capital-...   \n",
       "529   http://www.evca.eu/toolbox/membersearch.aspx?i...   \n",
       "1469                                                NaN   \n",
       "\n",
       "                                     source_description           created_at  \\\n",
       "24    SVB Capital and Battery raise latest VC funds ...  2009-01-21 03:45:49   \n",
       "529                                                EVCA  2011-10-27 13:18:31   \n",
       "1469                          StrictlyVC Funding Source  2013-11-09 11:34:52   \n",
       "\n",
       "               updated_at  \n",
       "24    2013-10-01 18:53:10  \n",
       "529   2012-12-30 04:37:29  \n",
       "1469  2013-11-09 11:34:52  "
      ],
      "text/html": "<div>\n<style scoped>\n    .dataframe tbody tr th:only-of-type {\n        vertical-align: middle;\n    }\n\n    .dataframe tbody tr th {\n        vertical-align: top;\n    }\n\n    .dataframe thead th {\n        text-align: right;\n    }\n</style>\n<table border=\"1\" class=\"dataframe\">\n  <thead>\n    <tr style=\"text-align: right;\">\n      <th></th>\n      <th>id</th>\n      <th>fund_id</th>\n      <th>object_id</th>\n      <th>name</th>\n      <th>funded_at</th>\n      <th>raised_amount</th>\n      <th>raised_currency_code</th>\n      <th>source_url</th>\n      <th>source_description</th>\n      <th>created_at</th>\n      <th>updated_at</th>\n    </tr>\n  </thead>\n  <tbody>\n    <tr>\n      <td>24</td>\n      <td>27</td>\n      <td>27</td>\n      <td>f:137</td>\n      <td>Battery Fund</td>\n      <td>2007-07-06</td>\n      <td>750000000.0</td>\n      <td>USD</td>\n      <td>http://venturebeat.com/2007/07/06/svb-capital-...</td>\n      <td>SVB Capital and Battery raise latest VC funds ...</td>\n      <td>2009-01-21 03:45:49</td>\n      <td>2013-10-01 18:53:10</td>\n    </tr>\n    <tr>\n      <td>529</td>\n      <td>582</td>\n      <td>582</td>\n      <td>f:2130</td>\n      <td>Poste Innovation 7</td>\n      <td>2004-01-01</td>\n      <td>15000000.0</td>\n      <td>EUR</td>\n      <td>http://www.evca.eu/toolbox/membersearch.aspx?i...</td>\n      <td>EVCA</td>\n      <td>2011-10-27 13:18:31</td>\n      <td>2012-12-30 04:37:29</td>\n    </tr>\n    <tr>\n      <td>1469</td>\n      <td>1603</td>\n      <td>1603</td>\n      <td>f:14564</td>\n      <td>Targeted Technology Fund II</td>\n      <td>2013-11-08</td>\n      <td>20000000.0</td>\n      <td>USD</td>\n      <td>NaN</td>\n      <td>StrictlyVC Funding Source</td>\n      <td>2013-11-09 11:34:52</td>\n      <td>2013-11-09 11:34:52</td>\n    </tr>\n  </tbody>\n</table>\n</div>"
     },
     "metadata": {},
     "execution_count": 7
    }
   ],
   "source": [
    "funds.sample(3)"
   ]
  },
  {
   "cell_type": "code",
   "execution_count": 8,
   "metadata": {},
   "outputs": [
    {
     "output_type": "execute_result",
     "data": {
      "text/plain": [
       "          id  funding_round_id object_id   funded_at funding_round_type  \\\n",
       "36153  39570             39570  c:141608  2013-06-07           series-b   \n",
       "24268  26399             26399   c:22301  2011-11-07              other   \n",
       "33286  36417             36417  c:191069  2013-05-20              angel   \n",
       "\n",
       "      funding_round_code  raised_amount_usd  raised_amount  \\\n",
       "36153                  b         11500000.0     11500000.0   \n",
       "24268              grant           250000.0       250000.0   \n",
       "33286               seed           800000.0       800000.0   \n",
       "\n",
       "      raised_currency_code  pre_money_valuation_usd  pre_money_valuation  \\\n",
       "36153                  USD                      0.0                  0.0   \n",
       "24268                  USD                      0.0                  0.0   \n",
       "33286                  USD                      0.0                  0.0   \n",
       "\n",
       "      pre_money_currency_code  post_money_valuation_usd  post_money_valuation  \\\n",
       "36153                     USD                       0.0                   0.0   \n",
       "24268                     NaN                       0.0                   0.0   \n",
       "33286                     USD                       0.0                   0.0   \n",
       "\n",
       "      post_money_currency_code  participants  is_first_round  is_last_round  \\\n",
       "36153                      USD            10               1              0   \n",
       "24268                      NaN             1               1              0   \n",
       "33286                      USD             6               0              0   \n",
       "\n",
       "                                              source_url  \\\n",
       "36153  http://www.finsmes.com/2013/06/avaxia-biologic...   \n",
       "24268  http://techcrunch.com/2011/11/07/startup-weeke...   \n",
       "33286  http://www.adweek.com/news/technology/pinteres...   \n",
       "\n",
       "                                      source_description created_by  \\\n",
       "36153  Avaxia Biologics Completes $11.4M Series B Fin...       arun   \n",
       "24268  Startup Weekend EDU Receives $250,000 Grant Fr...       arun   \n",
       "33286  Pinterest Network Helps Brands Pin More Conten...    mlwohls   \n",
       "\n",
       "                created_at           updated_at  \n",
       "36153  2013-06-08 03:12:11  2013-06-08 03:12:11  \n",
       "24268  2011-11-08 02:55:21  2011-11-08 02:55:21  \n",
       "33286  2013-03-22 12:49:30  2013-06-13 11:08:08  "
      ],
      "text/html": "<div>\n<style scoped>\n    .dataframe tbody tr th:only-of-type {\n        vertical-align: middle;\n    }\n\n    .dataframe tbody tr th {\n        vertical-align: top;\n    }\n\n    .dataframe thead th {\n        text-align: right;\n    }\n</style>\n<table border=\"1\" class=\"dataframe\">\n  <thead>\n    <tr style=\"text-align: right;\">\n      <th></th>\n      <th>id</th>\n      <th>funding_round_id</th>\n      <th>object_id</th>\n      <th>funded_at</th>\n      <th>funding_round_type</th>\n      <th>funding_round_code</th>\n      <th>raised_amount_usd</th>\n      <th>raised_amount</th>\n      <th>raised_currency_code</th>\n      <th>pre_money_valuation_usd</th>\n      <th>pre_money_valuation</th>\n      <th>pre_money_currency_code</th>\n      <th>post_money_valuation_usd</th>\n      <th>post_money_valuation</th>\n      <th>post_money_currency_code</th>\n      <th>participants</th>\n      <th>is_first_round</th>\n      <th>is_last_round</th>\n      <th>source_url</th>\n      <th>source_description</th>\n      <th>created_by</th>\n      <th>created_at</th>\n      <th>updated_at</th>\n    </tr>\n  </thead>\n  <tbody>\n    <tr>\n      <td>36153</td>\n      <td>39570</td>\n      <td>39570</td>\n      <td>c:141608</td>\n      <td>2013-06-07</td>\n      <td>series-b</td>\n      <td>b</td>\n      <td>11500000.0</td>\n      <td>11500000.0</td>\n      <td>USD</td>\n      <td>0.0</td>\n      <td>0.0</td>\n      <td>USD</td>\n      <td>0.0</td>\n      <td>0.0</td>\n      <td>USD</td>\n      <td>10</td>\n      <td>1</td>\n      <td>0</td>\n      <td>http://www.finsmes.com/2013/06/avaxia-biologic...</td>\n      <td>Avaxia Biologics Completes $11.4M Series B Fin...</td>\n      <td>arun</td>\n      <td>2013-06-08 03:12:11</td>\n      <td>2013-06-08 03:12:11</td>\n    </tr>\n    <tr>\n      <td>24268</td>\n      <td>26399</td>\n      <td>26399</td>\n      <td>c:22301</td>\n      <td>2011-11-07</td>\n      <td>other</td>\n      <td>grant</td>\n      <td>250000.0</td>\n      <td>250000.0</td>\n      <td>USD</td>\n      <td>0.0</td>\n      <td>0.0</td>\n      <td>NaN</td>\n      <td>0.0</td>\n      <td>0.0</td>\n      <td>NaN</td>\n      <td>1</td>\n      <td>1</td>\n      <td>0</td>\n      <td>http://techcrunch.com/2011/11/07/startup-weeke...</td>\n      <td>Startup Weekend EDU Receives $250,000 Grant Fr...</td>\n      <td>arun</td>\n      <td>2011-11-08 02:55:21</td>\n      <td>2011-11-08 02:55:21</td>\n    </tr>\n    <tr>\n      <td>33286</td>\n      <td>36417</td>\n      <td>36417</td>\n      <td>c:191069</td>\n      <td>2013-05-20</td>\n      <td>angel</td>\n      <td>seed</td>\n      <td>800000.0</td>\n      <td>800000.0</td>\n      <td>USD</td>\n      <td>0.0</td>\n      <td>0.0</td>\n      <td>USD</td>\n      <td>0.0</td>\n      <td>0.0</td>\n      <td>USD</td>\n      <td>6</td>\n      <td>0</td>\n      <td>0</td>\n      <td>http://www.adweek.com/news/technology/pinteres...</td>\n      <td>Pinterest Network Helps Brands Pin More Conten...</td>\n      <td>mlwohls</td>\n      <td>2013-03-22 12:49:30</td>\n      <td>2013-06-13 11:08:08</td>\n    </tr>\n  </tbody>\n</table>\n</div>"
     },
     "metadata": {},
     "execution_count": 8
    }
   ],
   "source": [
    "funding_round.sample(3)"
   ]
  },
  {
   "source": [
    "## Merging investement and funding round as main dataset "
   ],
   "cell_type": "markdown",
   "metadata": {}
  },
  {
   "cell_type": "code",
   "execution_count": 9,
   "metadata": {},
   "outputs": [],
   "source": [
    "inv_funrnd=pd.merge(investments,funding_round,on='funding_round_id')"
   ]
  },
  {
   "source": [
    "## INV_FUNRD EDA"
   ],
   "cell_type": "markdown",
   "metadata": {}
  },
  {
   "cell_type": "code",
   "execution_count": 10,
   "metadata": {},
   "outputs": [
    {
     "output_type": "execute_result",
     "data": {
      "text/plain": [
       "        id_x  funding_round_id funded_object_id investor_object_id  \\\n",
       "951      805               494            c:601              f:257   \n",
       "18087  16059             11084          c:39561             f:1589   \n",
       "34627  31193             20280          c:39799             f:3387   \n",
       "\n",
       "              created_at_x         updated_at_x   id_y object_id   funded_at  \\\n",
       "951    2007-08-24 13:11:33  2008-05-10 16:32:32    494     c:601  1999-05-01   \n",
       "18087  2010-01-12 04:55:24  2013-06-24 19:17:08  11084   c:39561  2010-01-08   \n",
       "34627  2010-11-30 03:02:10  2013-07-15 12:27:37  20280   c:39799  2010-11-30   \n",
       "\n",
       "      funding_round_type funding_round_code  raised_amount_usd  raised_amount  \\\n",
       "951             series-a                  a          2000000.0      2000000.0   \n",
       "18087            venture       unattributed          5859444.0      5859444.0   \n",
       "34627            venture       unattributed        410000000.0    410000000.0   \n",
       "\n",
       "      raised_currency_code  pre_money_valuation_usd  pre_money_valuation  \\\n",
       "951                    USD                      0.0                  0.0   \n",
       "18087                  USD                      0.0                  0.0   \n",
       "34627                  USD                      0.0                  0.0   \n",
       "\n",
       "      pre_money_currency_code  post_money_valuation_usd  post_money_valuation  \\\n",
       "951                       NaN                       0.0                   0.0   \n",
       "18087                     USD                       0.0                   0.0   \n",
       "34627                     USD                       0.0                   0.0   \n",
       "\n",
       "      post_money_currency_code  participants  is_first_round  is_last_round  \\\n",
       "951                        NaN             2               0              1   \n",
       "18087                      USD             1               0              1   \n",
       "34627                      USD             3               0              0   \n",
       "\n",
       "                                              source_url  \\\n",
       "951    http://www.opentable.com/info/newspage.aspx?id=13   \n",
       "18087  http://www.greentechmedia.com/articles/read/do...   \n",
       "34627  http://spacenews.com/satellite_telecom/101129-...   \n",
       "\n",
       "                                      source_description        created_by  \\\n",
       "951                                                  NaN  initial-importer   \n",
       "18087          Dow Invests in CIGS Start-Up Nuvosun, SEC              arun   \n",
       "34627  With $1.2B in Financing, O3b Constellation Clo...              arun   \n",
       "\n",
       "              created_at_y         updated_at_y  \n",
       "951    2007-08-24 13:11:33  2008-05-10 16:32:32  \n",
       "18087  2010-01-12 04:55:24  2013-06-24 19:17:08  \n",
       "34627  2010-11-30 03:02:10  2013-07-15 12:27:37  "
      ],
      "text/html": "<div>\n<style scoped>\n    .dataframe tbody tr th:only-of-type {\n        vertical-align: middle;\n    }\n\n    .dataframe tbody tr th {\n        vertical-align: top;\n    }\n\n    .dataframe thead th {\n        text-align: right;\n    }\n</style>\n<table border=\"1\" class=\"dataframe\">\n  <thead>\n    <tr style=\"text-align: right;\">\n      <th></th>\n      <th>id_x</th>\n      <th>funding_round_id</th>\n      <th>funded_object_id</th>\n      <th>investor_object_id</th>\n      <th>created_at_x</th>\n      <th>updated_at_x</th>\n      <th>id_y</th>\n      <th>object_id</th>\n      <th>funded_at</th>\n      <th>funding_round_type</th>\n      <th>funding_round_code</th>\n      <th>raised_amount_usd</th>\n      <th>raised_amount</th>\n      <th>raised_currency_code</th>\n      <th>pre_money_valuation_usd</th>\n      <th>pre_money_valuation</th>\n      <th>pre_money_currency_code</th>\n      <th>post_money_valuation_usd</th>\n      <th>post_money_valuation</th>\n      <th>post_money_currency_code</th>\n      <th>participants</th>\n      <th>is_first_round</th>\n      <th>is_last_round</th>\n      <th>source_url</th>\n      <th>source_description</th>\n      <th>created_by</th>\n      <th>created_at_y</th>\n      <th>updated_at_y</th>\n    </tr>\n  </thead>\n  <tbody>\n    <tr>\n      <td>951</td>\n      <td>805</td>\n      <td>494</td>\n      <td>c:601</td>\n      <td>f:257</td>\n      <td>2007-08-24 13:11:33</td>\n      <td>2008-05-10 16:32:32</td>\n      <td>494</td>\n      <td>c:601</td>\n      <td>1999-05-01</td>\n      <td>series-a</td>\n      <td>a</td>\n      <td>2000000.0</td>\n      <td>2000000.0</td>\n      <td>USD</td>\n      <td>0.0</td>\n      <td>0.0</td>\n      <td>NaN</td>\n      <td>0.0</td>\n      <td>0.0</td>\n      <td>NaN</td>\n      <td>2</td>\n      <td>0</td>\n      <td>1</td>\n      <td>http://www.opentable.com/info/newspage.aspx?id=13</td>\n      <td>NaN</td>\n      <td>initial-importer</td>\n      <td>2007-08-24 13:11:33</td>\n      <td>2008-05-10 16:32:32</td>\n    </tr>\n    <tr>\n      <td>18087</td>\n      <td>16059</td>\n      <td>11084</td>\n      <td>c:39561</td>\n      <td>f:1589</td>\n      <td>2010-01-12 04:55:24</td>\n      <td>2013-06-24 19:17:08</td>\n      <td>11084</td>\n      <td>c:39561</td>\n      <td>2010-01-08</td>\n      <td>venture</td>\n      <td>unattributed</td>\n      <td>5859444.0</td>\n      <td>5859444.0</td>\n      <td>USD</td>\n      <td>0.0</td>\n      <td>0.0</td>\n      <td>USD</td>\n      <td>0.0</td>\n      <td>0.0</td>\n      <td>USD</td>\n      <td>1</td>\n      <td>0</td>\n      <td>1</td>\n      <td>http://www.greentechmedia.com/articles/read/do...</td>\n      <td>Dow Invests in CIGS Start-Up Nuvosun, SEC</td>\n      <td>arun</td>\n      <td>2010-01-12 04:55:24</td>\n      <td>2013-06-24 19:17:08</td>\n    </tr>\n    <tr>\n      <td>34627</td>\n      <td>31193</td>\n      <td>20280</td>\n      <td>c:39799</td>\n      <td>f:3387</td>\n      <td>2010-11-30 03:02:10</td>\n      <td>2013-07-15 12:27:37</td>\n      <td>20280</td>\n      <td>c:39799</td>\n      <td>2010-11-30</td>\n      <td>venture</td>\n      <td>unattributed</td>\n      <td>410000000.0</td>\n      <td>410000000.0</td>\n      <td>USD</td>\n      <td>0.0</td>\n      <td>0.0</td>\n      <td>USD</td>\n      <td>0.0</td>\n      <td>0.0</td>\n      <td>USD</td>\n      <td>3</td>\n      <td>0</td>\n      <td>0</td>\n      <td>http://spacenews.com/satellite_telecom/101129-...</td>\n      <td>With $1.2B in Financing, O3b Constellation Clo...</td>\n      <td>arun</td>\n      <td>2010-11-30 03:02:10</td>\n      <td>2013-07-15 12:27:37</td>\n    </tr>\n  </tbody>\n</table>\n</div>"
     },
     "metadata": {},
     "execution_count": 10
    }
   ],
   "source": [
    "inv_funrnd.sample(3) # get a glimpse into the new dataset"
   ]
  },
  {
   "cell_type": "code",
   "execution_count": 11,
   "metadata": {},
   "outputs": [
    {
     "output_type": "execute_result",
     "data": {
      "text/plain": [
       "                            count          mean           std  min  \\\n",
       "id_x                      80902.0  4.045150e+04  2.335454e+04  1.0   \n",
       "funding_round_id          80902.0  2.402017e+04  1.516303e+04  1.0   \n",
       "id_y                      80902.0  2.402017e+04  1.516303e+04  1.0   \n",
       "raised_amount_usd         80902.0  1.161108e+07  4.128060e+07  0.0   \n",
       "raised_amount             80902.0  1.188521e+07  4.949011e+07  0.0   \n",
       "pre_money_valuation_usd   80902.0  2.670972e+05  5.299019e+07  0.0   \n",
       "pre_money_valuation       80902.0  2.670972e+05  5.299019e+07  0.0   \n",
       "post_money_valuation_usd  80902.0  1.905719e+06  5.690148e+07  0.0   \n",
       "post_money_valuation      80902.0  1.940594e+06  5.708151e+07  0.0   \n",
       "participants              80902.0  4.305295e+00  3.664336e+00  1.0   \n",
       "is_first_round            80902.0  5.515933e-01  4.973341e-01  0.0   \n",
       "is_last_round             80902.0  5.329658e-01  4.989152e-01  0.0   \n",
       "\n",
       "                                 25%        50%          75%           max  \n",
       "id_x                        20226.25    40451.5     60676.75  8.090200e+04  \n",
       "funding_round_id            11747.25    22594.5     34794.00  5.794800e+04  \n",
       "id_y                        11747.25    22594.5     34794.00  5.794800e+04  \n",
       "raised_amount_usd         1000000.00  4480000.0  12500000.00  3.200000e+09  \n",
       "raised_amount             1000000.00  4300000.0  12200000.00  3.200000e+09  \n",
       "pre_money_valuation_usd         0.00        0.0         0.00  1.500000e+10  \n",
       "pre_money_valuation             0.00        0.0         0.00  1.500000e+10  \n",
       "post_money_valuation_usd        0.00        0.0         0.00  4.000000e+09  \n",
       "post_money_valuation            0.00        0.0         0.00  4.000000e+09  \n",
       "participants                    2.00        3.0         5.00  3.600000e+01  \n",
       "is_first_round                  0.00        1.0         1.00  1.000000e+00  \n",
       "is_last_round                   0.00        1.0         1.00  1.000000e+00  "
      ],
      "text/html": "<div>\n<style scoped>\n    .dataframe tbody tr th:only-of-type {\n        vertical-align: middle;\n    }\n\n    .dataframe tbody tr th {\n        vertical-align: top;\n    }\n\n    .dataframe thead th {\n        text-align: right;\n    }\n</style>\n<table border=\"1\" class=\"dataframe\">\n  <thead>\n    <tr style=\"text-align: right;\">\n      <th></th>\n      <th>count</th>\n      <th>mean</th>\n      <th>std</th>\n      <th>min</th>\n      <th>25%</th>\n      <th>50%</th>\n      <th>75%</th>\n      <th>max</th>\n    </tr>\n  </thead>\n  <tbody>\n    <tr>\n      <td>id_x</td>\n      <td>80902.0</td>\n      <td>4.045150e+04</td>\n      <td>2.335454e+04</td>\n      <td>1.0</td>\n      <td>20226.25</td>\n      <td>40451.5</td>\n      <td>60676.75</td>\n      <td>8.090200e+04</td>\n    </tr>\n    <tr>\n      <td>funding_round_id</td>\n      <td>80902.0</td>\n      <td>2.402017e+04</td>\n      <td>1.516303e+04</td>\n      <td>1.0</td>\n      <td>11747.25</td>\n      <td>22594.5</td>\n      <td>34794.00</td>\n      <td>5.794800e+04</td>\n    </tr>\n    <tr>\n      <td>id_y</td>\n      <td>80902.0</td>\n      <td>2.402017e+04</td>\n      <td>1.516303e+04</td>\n      <td>1.0</td>\n      <td>11747.25</td>\n      <td>22594.5</td>\n      <td>34794.00</td>\n      <td>5.794800e+04</td>\n    </tr>\n    <tr>\n      <td>raised_amount_usd</td>\n      <td>80902.0</td>\n      <td>1.161108e+07</td>\n      <td>4.128060e+07</td>\n      <td>0.0</td>\n      <td>1000000.00</td>\n      <td>4480000.0</td>\n      <td>12500000.00</td>\n      <td>3.200000e+09</td>\n    </tr>\n    <tr>\n      <td>raised_amount</td>\n      <td>80902.0</td>\n      <td>1.188521e+07</td>\n      <td>4.949011e+07</td>\n      <td>0.0</td>\n      <td>1000000.00</td>\n      <td>4300000.0</td>\n      <td>12200000.00</td>\n      <td>3.200000e+09</td>\n    </tr>\n    <tr>\n      <td>pre_money_valuation_usd</td>\n      <td>80902.0</td>\n      <td>2.670972e+05</td>\n      <td>5.299019e+07</td>\n      <td>0.0</td>\n      <td>0.00</td>\n      <td>0.0</td>\n      <td>0.00</td>\n      <td>1.500000e+10</td>\n    </tr>\n    <tr>\n      <td>pre_money_valuation</td>\n      <td>80902.0</td>\n      <td>2.670972e+05</td>\n      <td>5.299019e+07</td>\n      <td>0.0</td>\n      <td>0.00</td>\n      <td>0.0</td>\n      <td>0.00</td>\n      <td>1.500000e+10</td>\n    </tr>\n    <tr>\n      <td>post_money_valuation_usd</td>\n      <td>80902.0</td>\n      <td>1.905719e+06</td>\n      <td>5.690148e+07</td>\n      <td>0.0</td>\n      <td>0.00</td>\n      <td>0.0</td>\n      <td>0.00</td>\n      <td>4.000000e+09</td>\n    </tr>\n    <tr>\n      <td>post_money_valuation</td>\n      <td>80902.0</td>\n      <td>1.940594e+06</td>\n      <td>5.708151e+07</td>\n      <td>0.0</td>\n      <td>0.00</td>\n      <td>0.0</td>\n      <td>0.00</td>\n      <td>4.000000e+09</td>\n    </tr>\n    <tr>\n      <td>participants</td>\n      <td>80902.0</td>\n      <td>4.305295e+00</td>\n      <td>3.664336e+00</td>\n      <td>1.0</td>\n      <td>2.00</td>\n      <td>3.0</td>\n      <td>5.00</td>\n      <td>3.600000e+01</td>\n    </tr>\n    <tr>\n      <td>is_first_round</td>\n      <td>80902.0</td>\n      <td>5.515933e-01</td>\n      <td>4.973341e-01</td>\n      <td>0.0</td>\n      <td>0.00</td>\n      <td>1.0</td>\n      <td>1.00</td>\n      <td>1.000000e+00</td>\n    </tr>\n    <tr>\n      <td>is_last_round</td>\n      <td>80902.0</td>\n      <td>5.329658e-01</td>\n      <td>4.989152e-01</td>\n      <td>0.0</td>\n      <td>0.00</td>\n      <td>1.0</td>\n      <td>1.00</td>\n      <td>1.000000e+00</td>\n    </tr>\n  </tbody>\n</table>\n</div>"
     },
     "metadata": {},
     "execution_count": 11
    }
   ],
   "source": [
    "inv_funrnd.describe().T"
   ]
  },
  {
   "cell_type": "code",
   "execution_count": null,
   "metadata": {},
   "outputs": [],
   "source": []
  }
 ],
 "metadata": {
  "language_info": {
   "codemirror_mode": {
    "name": "ipython",
    "version": 3
   },
   "file_extension": ".py",
   "mimetype": "text/x-python",
   "name": "python",
   "nbconvert_exporter": "python",
   "pygments_lexer": "ipython3",
   "version": "3.7.4-final"
  },
  "orig_nbformat": 2,
  "kernelspec": {
   "name": "python3",
   "display_name": "Python 3"
  }
 },
 "nbformat": 4,
 "nbformat_minor": 2
}